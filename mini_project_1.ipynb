{
  "nbformat": 4,
  "nbformat_minor": 0,
  "metadata": {
    "colab": {
      "provenance": []
    },
    "kernelspec": {
      "name": "python3",
      "display_name": "Python 3"
    },
    "language_info": {
      "name": "python"
    },
    "accelerator": "GPU",
    "gpuClass": "standard"
  },
  "cells": [
    {
      "cell_type": "code",
      "execution_count": 1,
      "metadata": {
        "id": "zAovB-26dPJ3"
      },
      "outputs": [],
      "source": [
        "import numpy as np\n",
        "import random\n",
        "import torchvision\n",
        "from torchvision import transforms as transforms\n",
        "from torch import nn\n",
        "from torch.nn import functional as F\n",
        "from math import cos\n",
        "from math import pi\n",
        "from torchsummary import summary\n",
        "\n",
        "import os\n",
        "import time\n",
        "import torch\n",
        "import math\n",
        "import matplotlib.pyplot as plt\n",
        "\n"
      ]
    },
    {
      "cell_type": "code",
      "source": [
        "# set seeds \n",
        "torch.cuda.empty_cache()\n",
        "torch.manual_seed(2221)\n",
        "torch.cuda.manual_seed_all(2221)\n"
      ],
      "metadata": {
        "id": "GvP9nNMIdxYP"
      },
      "execution_count": 2,
      "outputs": []
    },
    {
      "cell_type": "code",
      "source": [
        "# Apply normalization and HorizontalFlip to the data for augmentation transform\n",
        "\n",
        "aug_train = transforms.Compose([\n",
        "    transforms.RandomCrop(32,padding=4,padding_mode='reflect'),\n",
        "    transforms.RandomHorizontalFlip(),\n",
        "    transforms.ToTensor(),\n",
        "    transforms.Normalize((0.5, 0.5, 0.5), (0.5, 0.5, 0.5)) \n",
        "    ])\n",
        "\n",
        "aug_test = transforms.Compose([\n",
        "    transforms.ToTensor(),\n",
        "    transforms.Normalize((0.5, 0.5, 0.5), (0.5, 0.5, 0.5)) \n",
        "    ])\n"
      ],
      "metadata": {
        "id": "VzIboLHUV7Er"
      },
      "execution_count": 3,
      "outputs": []
    },
    {
      "cell_type": "code",
      "source": [
        "# load data\n",
        "\n",
        "train_data = torchvision.datasets.CIFAR10('./CIFAR10',train=True,download=True,transform=aug_train)\n",
        "test_data = torchvision.datasets.CIFAR10('./CIFAR10',train=False,download=True,transform=aug_test)\n",
        "batch_size = 128\n",
        "train_dataloader = torch.utils.data.DataLoader(train_data,batch_size=batch_size,shuffle=True)\n",
        "test_dataloader = torch.utils.data.DataLoader(test_data,batch_size=batch_size,shuffle=False)\n",
        "train_size = len(train_dataloader)\n",
        "test_size = len(test_dataloader)\n"
      ],
      "metadata": {
        "colab": {
          "base_uri": "https://localhost:8080/"
        },
        "id": "2EslEpiKBYD_",
        "outputId": "f2e9b4c8-bd2a-4e79-c39d-24898edc77ff"
      },
      "execution_count": 4,
      "outputs": [
        {
          "output_type": "stream",
          "name": "stdout",
          "text": [
            "Downloading https://www.cs.toronto.edu/~kriz/cifar-10-python.tar.gz to ./CIFAR10/cifar-10-python.tar.gz\n"
          ]
        },
        {
          "output_type": "stream",
          "name": "stderr",
          "text": [
            "100%|██████████| 170498071/170498071 [00:13<00:00, 12556322.34it/s]\n"
          ]
        },
        {
          "output_type": "stream",
          "name": "stdout",
          "text": [
            "Extracting ./CIFAR10/cifar-10-python.tar.gz to ./CIFAR10\n",
            "Files already downloaded and verified\n"
          ]
        }
      ]
    },
    {
      "cell_type": "code",
      "source": [
        "class BasicBlock(nn.Module):\n",
        "\n",
        "    def __init__(self, in_planes, planes, stride=1):\n",
        "        super(BasicBlock, self).__init__()\n",
        "        self.conv1 = nn.Conv2d(\n",
        "            in_planes, planes, kernel_size=3, stride=stride, padding=1, bias=False)\n",
        "        self.bn1 = nn.BatchNorm2d(planes)\n",
        "        self.conv2 = nn.Conv2d(planes, planes, kernel_size=3,\n",
        "                               stride=1, padding=1, bias=False)\n",
        "        self.bn2 = nn.BatchNorm2d(planes)\n",
        "\n",
        "        self.shortcut = nn.Sequential()\n",
        "        if stride != 1 or in_planes != planes:\n",
        "            self.shortcut = nn.Sequential(\n",
        "                nn.Conv2d(in_planes, planes,\n",
        "                          kernel_size=1, stride=stride, bias=False),\n",
        "                nn.BatchNorm2d(planes)\n",
        "            )\n",
        "\n",
        "    def forward(self, x):\n",
        "        out = F.relu(self.bn1(self.conv1(x)))\n",
        "        out = self.bn2(self.conv2(out))\n",
        "        out += self.shortcut(x)\n",
        "        out = F.relu(out)\n",
        "        return out\n",
        "\n",
        "\n",
        "\n",
        "class ResNet(nn.Module):\n",
        "    def __init__(self, block, num_blocks, num_classes=10):\n",
        "        super(ResNet, self).__init__()\n",
        "        self.in_planes = 64\n",
        "\n",
        "        self.conv1 = nn.Conv2d(3, self.in_planes, kernel_size=3,\n",
        "                               stride=1, padding=1, bias=False)\n",
        "        self.bn1 = nn.BatchNorm2d(self.in_planes)\n",
        "        self.layer1 = self._make_layer(block, 64, num_blocks[0], stride=1)\n",
        "        self.layer2 = self._make_layer(block, 128, num_blocks[1], stride=2)\n",
        "        self.layer3 = self._make_layer(block, 256, num_blocks[2], stride=2)\n",
        "       # self.layer4 = self._make_layer(block, 512, num_blocks[3], stride=2)\n",
        "\n",
        "        self.linear = nn.Linear(1024, num_classes)\n",
        "\n",
        "    def _make_layer(self, block, planes, num_blocks, stride):\n",
        "        strides = [stride] + [1]*(num_blocks-1)\n",
        "        layers = []\n",
        "        for stride in strides:\n",
        "            layers.append(block(self.in_planes, planes, stride))\n",
        "            self.in_planes = planes\n",
        "        return nn.Sequential(*layers)\n",
        "\n",
        "    def forward(self, x):\n",
        "        out = F.relu(self.bn1(self.conv1(x)))\n",
        "        out = self.layer1(out)\n",
        "        out = self.layer2(out)\n",
        "        out = self.layer3(out)\n",
        "        out = F.avg_pool2d(out, 4)\n",
        "        out = out.view(out.size(0), -1)\n",
        "        out = self.linear(out)\n",
        "        return out\n",
        "    \n",
        "\n",
        "\n",
        "\n",
        "\n",
        "def decay_learning_rate(optimizer, current, max_epoch, min_rate, max_rate):\n",
        "    # quicklly decrease the learning rate in the first 10 epoches\n",
        "    if current < 10:\n",
        "        lr = max_rate * current / 10\n",
        "    # applying COSINEANNEALINGWARMRESTARTS in later epoches\n",
        "    else:\n",
        "        lr = min_rate + (max_rate-min_rate)*(1 + cos(pi * (current - 10) / (max_epoch - 10))) / 2\n",
        "    for param_group in optimizer.param_groups:\n",
        "        param_group['lr'] = lr"
      ],
      "metadata": {
        "id": "rjWrG_TuBc1v"
      },
      "execution_count": 5,
      "outputs": []
    },
    {
      "cell_type": "code",
      "source": [
        "# dispalying the model details   Total params: 3,154,762\n",
        "\n",
        "model = ResNet(BasicBlock, [3,3,2]).cuda()\n",
        "summary(model, input_size=(3,32,32))\n"
      ],
      "metadata": {
        "id": "l84ndBrWCDHi",
        "colab": {
          "base_uri": "https://localhost:8080/"
        },
        "outputId": "d0df4cd1-f055-40bd-e931-584810ca34fd"
      },
      "execution_count": 6,
      "outputs": [
        {
          "output_type": "stream",
          "name": "stdout",
          "text": [
            "----------------------------------------------------------------\n",
            "        Layer (type)               Output Shape         Param #\n",
            "================================================================\n",
            "            Conv2d-1           [-1, 64, 32, 32]           1,728\n",
            "       BatchNorm2d-2           [-1, 64, 32, 32]             128\n",
            "            Conv2d-3           [-1, 64, 32, 32]          36,864\n",
            "       BatchNorm2d-4           [-1, 64, 32, 32]             128\n",
            "            Conv2d-5           [-1, 64, 32, 32]          36,864\n",
            "       BatchNorm2d-6           [-1, 64, 32, 32]             128\n",
            "        BasicBlock-7           [-1, 64, 32, 32]               0\n",
            "            Conv2d-8           [-1, 64, 32, 32]          36,864\n",
            "       BatchNorm2d-9           [-1, 64, 32, 32]             128\n",
            "           Conv2d-10           [-1, 64, 32, 32]          36,864\n",
            "      BatchNorm2d-11           [-1, 64, 32, 32]             128\n",
            "       BasicBlock-12           [-1, 64, 32, 32]               0\n",
            "           Conv2d-13           [-1, 64, 32, 32]          36,864\n",
            "      BatchNorm2d-14           [-1, 64, 32, 32]             128\n",
            "           Conv2d-15           [-1, 64, 32, 32]          36,864\n",
            "      BatchNorm2d-16           [-1, 64, 32, 32]             128\n",
            "       BasicBlock-17           [-1, 64, 32, 32]               0\n",
            "           Conv2d-18          [-1, 128, 16, 16]          73,728\n",
            "      BatchNorm2d-19          [-1, 128, 16, 16]             256\n",
            "           Conv2d-20          [-1, 128, 16, 16]         147,456\n",
            "      BatchNorm2d-21          [-1, 128, 16, 16]             256\n",
            "           Conv2d-22          [-1, 128, 16, 16]           8,192\n",
            "      BatchNorm2d-23          [-1, 128, 16, 16]             256\n",
            "       BasicBlock-24          [-1, 128, 16, 16]               0\n",
            "           Conv2d-25          [-1, 128, 16, 16]         147,456\n",
            "      BatchNorm2d-26          [-1, 128, 16, 16]             256\n",
            "           Conv2d-27          [-1, 128, 16, 16]         147,456\n",
            "      BatchNorm2d-28          [-1, 128, 16, 16]             256\n",
            "       BasicBlock-29          [-1, 128, 16, 16]               0\n",
            "           Conv2d-30          [-1, 128, 16, 16]         147,456\n",
            "      BatchNorm2d-31          [-1, 128, 16, 16]             256\n",
            "           Conv2d-32          [-1, 128, 16, 16]         147,456\n",
            "      BatchNorm2d-33          [-1, 128, 16, 16]             256\n",
            "       BasicBlock-34          [-1, 128, 16, 16]               0\n",
            "           Conv2d-35            [-1, 256, 8, 8]         294,912\n",
            "      BatchNorm2d-36            [-1, 256, 8, 8]             512\n",
            "           Conv2d-37            [-1, 256, 8, 8]         589,824\n",
            "      BatchNorm2d-38            [-1, 256, 8, 8]             512\n",
            "           Conv2d-39            [-1, 256, 8, 8]          32,768\n",
            "      BatchNorm2d-40            [-1, 256, 8, 8]             512\n",
            "       BasicBlock-41            [-1, 256, 8, 8]               0\n",
            "           Conv2d-42            [-1, 256, 8, 8]         589,824\n",
            "      BatchNorm2d-43            [-1, 256, 8, 8]             512\n",
            "           Conv2d-44            [-1, 256, 8, 8]         589,824\n",
            "      BatchNorm2d-45            [-1, 256, 8, 8]             512\n",
            "       BasicBlock-46            [-1, 256, 8, 8]               0\n",
            "           Linear-47                   [-1, 10]          10,250\n",
            "================================================================\n",
            "Total params: 3,154,762\n",
            "Trainable params: 3,154,762\n",
            "Non-trainable params: 0\n",
            "----------------------------------------------------------------\n",
            "Input size (MB): 0.01\n",
            "Forward/backward pass size (MB): 14.25\n",
            "Params size (MB): 12.03\n",
            "Estimated Total Size (MB): 26.30\n",
            "----------------------------------------------------------------\n"
          ]
        }
      ]
    },
    {
      "cell_type": "code",
      "source": [
        "epoch_num = 20\n",
        "record = 'record_model.pt'\n",
        "\n",
        "train_loss_history = []\n",
        "test_loss_history = []\n",
        "test_accuracy_history = []\n",
        "train_accuracy_history = []\n",
        "\n",
        "# used in dynamically learning rate adjustment\n",
        "Loss = torch.nn.CrossEntropyLoss()\n",
        "max_rate = 0.1 \n",
        "min_rate=0.001\n",
        "\n",
        "# train using different network\n",
        "optimizer = torch.optim.SGD(model.parameters(),lr=max_rate,momentum=0.9,nesterov=True)\n",
        "# optimizer = torch.optim.Adam(model.parameters(),lr=max_rate, betas=(0.9,0.999), eps=1e-08, amsgrad=True)\n",
        "\n",
        "# load from the stored model\n",
        "if os.path.exists(record):\n",
        "  loaded_model = torch.load(record)\n",
        "  model.load_state_dict(loaded_model['model_state_dict'])\n",
        "  optimizer.load_state_dict(loaded_model['optimizer_state_dict'])\n",
        "  Loss = loaded_model['Loss']\n",
        "  train_loss_history = loaded_model['train_loss_history']\n",
        "  test_loss_history = loaded_model['test_loss_history']\n",
        "  test_accuracy_history = loaded_model['test_accuracy_history']\n",
        "  train_accuracy_history = loaded_model['train_accuracy_history']\n",
        "\n",
        "# otherwise, train the model from scratch     \n",
        "else:\n",
        "  for epoch in range(1, epoch_num + 1):\n",
        "    train_loss = 0\n",
        "    test_loss = 0\n",
        "    train_accuracy = 0\n",
        "    test_accuracy = 0\n",
        "    for i, data in enumerate(train_dataloader):\n",
        "      inputs = data[0].cuda()\n",
        "      labels = data[1].cuda()\n",
        "      total_num = len(labels)\n",
        "      optimizer.zero_grad()\n",
        "      predicted = model(inputs)\n",
        "      max_prob = torch.max(predicted,1)[1]\n",
        "      loss = Loss(predicted,labels)\n",
        "      loss.backward()\n",
        "      decay_learning_rate(optimizer,epoch,epoch_num,min_rate,max_rate)\n",
        "      optimizer.step()\n",
        "      train_loss += loss.item()\n",
        "      epoc_acc = torch.eq(max_prob,labels).sum()/ total_num\n",
        "      train_accuracy += (100* epoc_acc).data.cpu().numpy()\n",
        "\n",
        "    for i, data in enumerate(test_dataloader):\n",
        "      with torch.no_grad():\n",
        "        inputs = data[0].cuda()\n",
        "        labels = data[1].cuda()\n",
        "        total_num = len(labels)\n",
        "        optimizer.zero_grad()\n",
        "        predicted = model(inputs)\n",
        "        max_prob = torch.max(predicted,1)[1]\n",
        "        loss = Loss(predicted,labels)\n",
        "        test_loss += loss.item()\n",
        "        epoc_acc = torch.eq(max_prob,labels).sum()/ total_num\n",
        "        test_accuracy += (100* epoc_acc).data.cpu().numpy()\n",
        "\n",
        "    train_loss = train_loss/train_size\n",
        "    test_loss = test_loss/test_size\n",
        "    train_accuracy = train_accuracy/train_size\n",
        "    test_accuracy = test_accuracy/test_size\n",
        "\n",
        "    train_loss_history.append(train_loss)\n",
        "    test_loss_history.append(test_loss)\n",
        "    train_accuracy_history.append(train_accuracy)\n",
        "\n",
        "    test_accuracy_history.append(test_accuracy)\n",
        "\n",
        "    print('Epoch#{:3}, Train accuracy = {:.2f}%, Test accuracy =  {:.2f}%'.format(epoch,train_accuracy,test_accuracy))\n",
        "\n",
        "    # store the current status \n",
        "    torch.save({'epoch':epoch,\n",
        "            'model_state_dict':model.state_dict(),\n",
        "            'optimizer_state_dict':optimizer.state_dict(),\n",
        "            'Loss':Loss,\n",
        "            'train_loss_history':train_loss_history,\n",
        "            'test_loss_history':test_loss_history,\n",
        "            'test_accuracy_history':test_accuracy_history,\n",
        "            'train_accuracy_history':train_accuracy_history},record)\n",
        "      \n"
      ],
      "metadata": {
        "id": "-bFgM_pECLb5",
        "colab": {
          "base_uri": "https://localhost:8080/"
        },
        "outputId": "761bc39c-9eeb-4d8a-c629-02948eaa25c4"
      },
      "execution_count": 7,
      "outputs": [
        {
          "output_type": "stream",
          "name": "stdout",
          "text": [
            "Epoch#  1, Train accuracy = 54.15%, Test accuracy =  66.97%\n",
            "Epoch#  2, Train accuracy = 69.69%, Test accuracy =  77.11%\n",
            "Epoch#  3, Train accuracy = 75.63%, Test accuracy =  79.11%\n",
            "Epoch#  4, Train accuracy = 78.96%, Test accuracy =  82.80%\n",
            "Epoch#  5, Train accuracy = 81.82%, Test accuracy =  83.31%\n",
            "Epoch#  6, Train accuracy = 83.84%, Test accuracy =  84.22%\n",
            "Epoch#  7, Train accuracy = 85.27%, Test accuracy =  86.44%\n",
            "Epoch#  8, Train accuracy = 86.39%, Test accuracy =  86.41%\n",
            "Epoch#  9, Train accuracy = 87.40%, Test accuracy =  87.31%\n",
            "Epoch# 10, Train accuracy = 88.52%, Test accuracy =  87.97%\n",
            "Epoch# 11, Train accuracy = 89.81%, Test accuracy =  88.73%\n",
            "Epoch# 12, Train accuracy = 91.24%, Test accuracy =  89.29%\n",
            "Epoch# 13, Train accuracy = 92.29%, Test accuracy =  89.05%\n",
            "Epoch# 14, Train accuracy = 93.57%, Test accuracy =  90.86%\n",
            "Epoch# 15, Train accuracy = 94.81%, Test accuracy =  91.12%\n",
            "Epoch# 16, Train accuracy = 95.95%, Test accuracy =  91.74%\n",
            "Epoch# 17, Train accuracy = 96.94%, Test accuracy =  92.17%\n",
            "Epoch# 18, Train accuracy = 97.47%, Test accuracy =  92.46%\n",
            "Epoch# 19, Train accuracy = 97.91%, Test accuracy =  92.54%\n",
            "Epoch# 20, Train accuracy = 98.02%, Test accuracy =  92.50%\n"
          ]
        }
      ]
    },
    {
      "cell_type": "code",
      "source": [
        "# plot the loss and accuracy curve of differnt models\n",
        "\n",
        "plt.figure(figsize=(15,5))\n",
        "plt.subplot(1,2,1)\n",
        "plt.plot(range(1,epoch_num+1),train_loss_history,label='Train loss')\n",
        "plt.plot(range(1,epoch_num+1),test_loss_history,label='Test loss')\n",
        "plt.xlabel('epoch')\n",
        "plt.ylabel('loss')\n",
        "plt.xlim([0, epoch_num])\n",
        "plt.legend()\n",
        "\n",
        "\n",
        "plt.subplot(1,2,2)\n",
        "plt.plot(range(1,epoch_num+1),train_accuracy_history,label='Train accuracy')\n",
        "plt.plot(range(1,epoch_num+1),test_accuracy_history,label='Test accuracy')\n",
        "plt.xlim([0, epoch_num])\n",
        "plt.xlabel('epoch')\n",
        "plt.ylabel('accuracy')\n",
        "plt.legend()\n",
        "\n",
        "\n"
      ],
      "metadata": {
        "id": "0QdO6T_FCOsN",
        "colab": {
          "base_uri": "https://localhost:8080/",
          "height": 486
        },
        "outputId": "b3d890d5-a856-4182-fa71-aa6304cacb03"
      },
      "execution_count": 8,
      "outputs": [
        {
          "output_type": "execute_result",
          "data": {
            "text/plain": [
              "<matplotlib.legend.Legend at 0x7fab3d1a21c0>"
            ]
          },
          "metadata": {},
          "execution_count": 8
        },
        {
          "output_type": "display_data",
          "data": {
            "text/plain": [
              "<Figure size 1500x500 with 2 Axes>"
            ],
            "image/png": "[encoded data removed]"
          },
          "metadata": {}
        }
      ]
    },
    {
      "cell_type": "code",
      "source": [
        "print('Accuracy =', \"{:.2f}%\".format(max(test_accuracy_history)))"
      ],
      "metadata": {
        "id": "B5fcZZXsbamI",
        "colab": {
          "base_uri": "https://localhost:8080/"
        },
        "outputId": "819601fb-6aa5-4575-fe76-ed509291b430"
      },
      "execution_count": 9,
      "outputs": [
        {
          "output_type": "stream",
          "name": "stdout",
          "text": [
            "Accuracy = 92.54%\n"
          ]
        }
      ]
    }
  ]
}